{
  "nbformat": 4,
  "nbformat_minor": 0,
  "metadata": {
    "colab": {
      "name": "Classification - Transfer Learning .ipynb",
      "provenance": [],
      "authorship_tag": "ABX9TyPBtpAuuBXTgt0XRYhySY42",
      "include_colab_link": true
    },
    "kernelspec": {
      "name": "python3",
      "display_name": "Python 3"
    },
    "language_info": {
      "name": "python"
    }
  },
  "cells": [
    {
      "cell_type": "markdown",
      "metadata": {
        "id": "view-in-github",
        "colab_type": "text"
      },
      "source": [
        "<a href=\"https://colab.research.google.com/github/AditiRastogi250701/Image-Classification/blob/main/Classification_Transfer_Learning_.ipynb\" target=\"_parent\"><img src=\"https://colab.research.google.com/assets/colab-badge.svg\" alt=\"Open In Colab\"/></a>"
      ]
    },
    {
      "cell_type": "code",
      "execution_count": 1,
      "metadata": {
        "id": "TE1qktEQw8_C"
      },
      "outputs": [],
      "source": [
        "#importing\n",
        "\n",
        "import numpy as np\n",
        "import pandas as pd\n",
        "import matplotlib.pyplot as plt\n",
        "import cv2\n",
        "import PIL.Image as Image\n",
        "import tensorflow as tf\n",
        "import tensorflow_hub as hub\n",
        "from tensorflow import keras\n",
        "from tensorflow.keras import layers\n",
        "from tensorflow.keras.models import Sequential"
      ]
    },
    {
      "cell_type": "code",
      "source": [
        "#importing the pre-trained model\n",
        "IMAGE_SHAPE=(224,224)\n",
        "model = tf.keras.Sequential([\n",
        "    hub.KerasLayer(\"https://tfhub.dev/google/tf2-preview/mobilenet_v2/classification/4\", \n",
        "                   input_shape=IMAGE_SHAPE+(3,))\n",
        "])"
      ],
      "metadata": {
        "id": "PzYK41qDxMv_"
      },
      "execution_count": 2,
      "outputs": []
    },
    {
      "cell_type": "code",
      "source": [
        "labels=pd.read_csv(r'/content/Labels.txt',sep='\\n',header=None)"
      ],
      "metadata": {
        "id": "EI2EjKtVxMyS"
      },
      "execution_count": 3,
      "outputs": []
    },
    {
      "cell_type": "code",
      "source": [
        "labels"
      ],
      "metadata": {
        "colab": {
          "base_uri": "https://localhost:8080/",
          "height": 424
        },
        "id": "rBfCdzOOxM2u",
        "outputId": "ade0ac33-1ca6-4972-cc44-9f3e0b38d9be"
      },
      "execution_count": 4,
      "outputs": [
        {
          "output_type": "execute_result",
          "data": {
            "text/html": [
              "\n",
              "  <div id=\"df-343e9162-a217-48f7-92a3-054c85f8986b\">\n",
              "    <div class=\"colab-df-container\">\n",
              "      <div>\n",
              "<style scoped>\n",
              "    .dataframe tbody tr th:only-of-type {\n",
              "        vertical-align: middle;\n",
              "    }\n",
              "\n",
              "    .dataframe tbody tr th {\n",
              "        vertical-align: top;\n",
              "    }\n",
              "\n",
              "    .dataframe thead th {\n",
              "        text-align: right;\n",
              "    }\n",
              "</style>\n",
              "<table border=\"1\" class=\"dataframe\">\n",
              "  <thead>\n",
              "    <tr style=\"text-align: right;\">\n",
              "      <th></th>\n",
              "      <th>0</th>\n",
              "    </tr>\n",
              "  </thead>\n",
              "  <tbody>\n",
              "    <tr>\n",
              "      <th>0</th>\n",
              "      <td>background</td>\n",
              "    </tr>\n",
              "    <tr>\n",
              "      <th>1</th>\n",
              "      <td>tench</td>\n",
              "    </tr>\n",
              "    <tr>\n",
              "      <th>2</th>\n",
              "      <td>goldfish</td>\n",
              "    </tr>\n",
              "    <tr>\n",
              "      <th>3</th>\n",
              "      <td>great white shark</td>\n",
              "    </tr>\n",
              "    <tr>\n",
              "      <th>4</th>\n",
              "      <td>tiger shark</td>\n",
              "    </tr>\n",
              "    <tr>\n",
              "      <th>...</th>\n",
              "      <td>...</td>\n",
              "    </tr>\n",
              "    <tr>\n",
              "      <th>996</th>\n",
              "      <td>earthstar</td>\n",
              "    </tr>\n",
              "    <tr>\n",
              "      <th>997</th>\n",
              "      <td>hen-of-the-woods</td>\n",
              "    </tr>\n",
              "    <tr>\n",
              "      <th>998</th>\n",
              "      <td>bolete</td>\n",
              "    </tr>\n",
              "    <tr>\n",
              "      <th>999</th>\n",
              "      <td>ear</td>\n",
              "    </tr>\n",
              "    <tr>\n",
              "      <th>1000</th>\n",
              "      <td>toilet tissue</td>\n",
              "    </tr>\n",
              "  </tbody>\n",
              "</table>\n",
              "<p>1001 rows × 1 columns</p>\n",
              "</div>\n",
              "      <button class=\"colab-df-convert\" onclick=\"convertToInteractive('df-343e9162-a217-48f7-92a3-054c85f8986b')\"\n",
              "              title=\"Convert this dataframe to an interactive table.\"\n",
              "              style=\"display:none;\">\n",
              "        \n",
              "  <svg xmlns=\"http://www.w3.org/2000/svg\" height=\"24px\"viewBox=\"0 0 24 24\"\n",
              "       width=\"24px\">\n",
              "    <path d=\"M0 0h24v24H0V0z\" fill=\"none\"/>\n",
              "    <path d=\"M18.56 5.44l.94 2.06.94-2.06 2.06-.94-2.06-.94-.94-2.06-.94 2.06-2.06.94zm-11 1L8.5 8.5l.94-2.06 2.06-.94-2.06-.94L8.5 2.5l-.94 2.06-2.06.94zm10 10l.94 2.06.94-2.06 2.06-.94-2.06-.94-.94-2.06-.94 2.06-2.06.94z\"/><path d=\"M17.41 7.96l-1.37-1.37c-.4-.4-.92-.59-1.43-.59-.52 0-1.04.2-1.43.59L10.3 9.45l-7.72 7.72c-.78.78-.78 2.05 0 2.83L4 21.41c.39.39.9.59 1.41.59.51 0 1.02-.2 1.41-.59l7.78-7.78 2.81-2.81c.8-.78.8-2.07 0-2.86zM5.41 20L4 18.59l7.72-7.72 1.47 1.35L5.41 20z\"/>\n",
              "  </svg>\n",
              "      </button>\n",
              "      \n",
              "  <style>\n",
              "    .colab-df-container {\n",
              "      display:flex;\n",
              "      flex-wrap:wrap;\n",
              "      gap: 12px;\n",
              "    }\n",
              "\n",
              "    .colab-df-convert {\n",
              "      background-color: #E8F0FE;\n",
              "      border: none;\n",
              "      border-radius: 50%;\n",
              "      cursor: pointer;\n",
              "      display: none;\n",
              "      fill: #1967D2;\n",
              "      height: 32px;\n",
              "      padding: 0 0 0 0;\n",
              "      width: 32px;\n",
              "    }\n",
              "\n",
              "    .colab-df-convert:hover {\n",
              "      background-color: #E2EBFA;\n",
              "      box-shadow: 0px 1px 2px rgba(60, 64, 67, 0.3), 0px 1px 3px 1px rgba(60, 64, 67, 0.15);\n",
              "      fill: #174EA6;\n",
              "    }\n",
              "\n",
              "    [theme=dark] .colab-df-convert {\n",
              "      background-color: #3B4455;\n",
              "      fill: #D2E3FC;\n",
              "    }\n",
              "\n",
              "    [theme=dark] .colab-df-convert:hover {\n",
              "      background-color: #434B5C;\n",
              "      box-shadow: 0px 1px 3px 1px rgba(0, 0, 0, 0.15);\n",
              "      filter: drop-shadow(0px 1px 2px rgba(0, 0, 0, 0.3));\n",
              "      fill: #FFFFFF;\n",
              "    }\n",
              "  </style>\n",
              "\n",
              "      <script>\n",
              "        const buttonEl =\n",
              "          document.querySelector('#df-343e9162-a217-48f7-92a3-054c85f8986b button.colab-df-convert');\n",
              "        buttonEl.style.display =\n",
              "          google.colab.kernel.accessAllowed ? 'block' : 'none';\n",
              "\n",
              "        async function convertToInteractive(key) {\n",
              "          const element = document.querySelector('#df-343e9162-a217-48f7-92a3-054c85f8986b');\n",
              "          const dataTable =\n",
              "            await google.colab.kernel.invokeFunction('convertToInteractive',\n",
              "                                                     [key], {});\n",
              "          if (!dataTable) return;\n",
              "\n",
              "          const docLinkHtml = 'Like what you see? Visit the ' +\n",
              "            '<a target=\"_blank\" href=https://colab.research.google.com/notebooks/data_table.ipynb>data table notebook</a>'\n",
              "            + ' to learn more about interactive tables.';\n",
              "          element.innerHTML = '';\n",
              "          dataTable['output_type'] = 'display_data';\n",
              "          await google.colab.output.renderOutput(dataTable, element);\n",
              "          const docLink = document.createElement('div');\n",
              "          docLink.innerHTML = docLinkHtml;\n",
              "          element.appendChild(docLink);\n",
              "        }\n",
              "      </script>\n",
              "    </div>\n",
              "  </div>\n",
              "  "
            ],
            "text/plain": [
              "                      0\n",
              "0            background\n",
              "1                 tench\n",
              "2              goldfish\n",
              "3     great white shark\n",
              "4           tiger shark\n",
              "...                 ...\n",
              "996           earthstar\n",
              "997    hen-of-the-woods\n",
              "998              bolete\n",
              "999                 ear\n",
              "1000      toilet tissue\n",
              "\n",
              "[1001 rows x 1 columns]"
            ]
          },
          "metadata": {},
          "execution_count": 4
        }
      ]
    },
    {
      "cell_type": "code",
      "source": [
        "labels.value_counts()"
      ],
      "metadata": {
        "colab": {
          "base_uri": "https://localhost:8080/"
        },
        "id": "G-uGHq0_xM7A",
        "outputId": "5d06141c-7b0a-421b-9443-43c9f1c3aaac"
      },
      "execution_count": 5,
      "outputs": [
        {
          "output_type": "execute_result",
          "data": {
            "text/plain": [
              "crane           2\n",
              "maillot         2\n",
              "zucchini        1\n",
              "crib            1\n",
              "dam             1\n",
              "               ..\n",
              "papillon        1\n",
              "paper towel     1\n",
              "panpipe         1\n",
              "palace          1\n",
              "Afghan hound    1\n",
              "Length: 999, dtype: int64"
            ]
          },
          "metadata": {},
          "execution_count": 5
        }
      ]
    },
    {
      "cell_type": "code",
      "source": [
        "IMAGE_SHAPE"
      ],
      "metadata": {
        "colab": {
          "base_uri": "https://localhost:8080/"
        },
        "id": "eb7eqgEpxM-4",
        "outputId": "f69c3bea-5354-4e32-88ea-0502fdd6e8fd"
      },
      "execution_count": 6,
      "outputs": [
        {
          "output_type": "execute_result",
          "data": {
            "text/plain": [
              "(224, 224)"
            ]
          },
          "metadata": {},
          "execution_count": 6
        }
      ]
    },
    {
      "cell_type": "markdown",
      "source": [
        "## Prediction"
      ],
      "metadata": {
        "id": "UZHPJyUPVdKr"
      }
    },
    {
      "cell_type": "code",
      "source": [
        "img=Image.open(r'/content/SAMPLE3.jfif').resize(IMAGE_SHAPE)"
      ],
      "metadata": {
        "id": "EyZiVlKVxNA7"
      },
      "execution_count": 7,
      "outputs": []
    },
    {
      "cell_type": "code",
      "source": [
        "img"
      ],
      "metadata": {
        "colab": {
          "base_uri": "https://localhost:8080/",
          "height": 241
        },
        "id": "v9-PGmDhxNDA",
        "outputId": "bc58b618-3271-4389-f257-a8c85218ff51"
      },
      "execution_count": 8,
      "outputs": [
        {
          "output_type": "execute_result",
          "data": {
            "image/png": "[encoded data removed]",
            "text/plain": [
              "<PIL.Image.Image image mode=RGB size=224x224 at 0x7F88AA6B7750>"
            ]
          },
          "metadata": {},
          "execution_count": 8
        }
      ]
    },
    {
      "cell_type": "code",
      "source": [
        "img=np.array(img)"
      ],
      "metadata": {
        "id": "sk68P_0IxNFJ"
      },
      "execution_count": 9,
      "outputs": []
    },
    {
      "cell_type": "code",
      "source": [
        "img.shape"
      ],
      "metadata": {
        "colab": {
          "base_uri": "https://localhost:8080/"
        },
        "id": "vGKflJZRxNIA",
        "outputId": "5783d2eb-1adf-4309-eacc-494f885f72a2"
      },
      "execution_count": 10,
      "outputs": [
        {
          "output_type": "execute_result",
          "data": {
            "text/plain": [
              "(224, 224, 3)"
            ]
          },
          "metadata": {},
          "execution_count": 10
        }
      ]
    },
    {
      "cell_type": "code",
      "source": [
        "img"
      ],
      "metadata": {
        "colab": {
          "base_uri": "https://localhost:8080/"
        },
        "id": "Mp38Mt8TxNK0",
        "outputId": "c9a958f7-fd8d-44f8-e460-2a572c6a05b2"
      },
      "execution_count": 11,
      "outputs": [
        {
          "output_type": "execute_result",
          "data": {
            "text/plain": [
              "array([[[175, 219, 254],\n",
              "        [175, 219, 254],\n",
              "        [175, 219, 254],\n",
              "        ...,\n",
              "        [137, 168, 173],\n",
              "        [135, 166, 171],\n",
              "        [134, 165, 170]],\n",
              "\n",
              "       [[176, 220, 255],\n",
              "        [176, 220, 255],\n",
              "        [176, 220, 255],\n",
              "        ...,\n",
              "        [138, 169, 174],\n",
              "        [136, 167, 172],\n",
              "        [134, 165, 170]],\n",
              "\n",
              "       [[177, 220, 254],\n",
              "        [177, 220, 254],\n",
              "        [177, 220, 254],\n",
              "        ...,\n",
              "        [138, 169, 174],\n",
              "        [136, 167, 172],\n",
              "        [134, 165, 170]],\n",
              "\n",
              "       ...,\n",
              "\n",
              "       [[ 98, 108,  21],\n",
              "        [ 96, 106,  20],\n",
              "        [ 89,  98,  14],\n",
              "        ...,\n",
              "        [ 67,  71,   0],\n",
              "        [ 93, 100,  22],\n",
              "        [104, 112,  30]],\n",
              "\n",
              "       [[ 98, 108,  21],\n",
              "        [ 86,  96,  11],\n",
              "        [ 78,  88,   4],\n",
              "        ...,\n",
              "        [ 64,  71,   0],\n",
              "        [ 93, 100,  23],\n",
              "        [106, 115,  33]],\n",
              "\n",
              "       [[ 99, 109,  22],\n",
              "        [ 80,  90,   8],\n",
              "        [ 73,  82,   2],\n",
              "        ...,\n",
              "        [ 65,  71,   0],\n",
              "        [ 95, 102,  25],\n",
              "        [110, 119,  37]]], dtype=uint8)"
            ]
          },
          "metadata": {},
          "execution_count": 11
        }
      ]
    },
    {
      "cell_type": "code",
      "source": [
        "#scaling the images\n",
        "img=img/255."
      ],
      "metadata": {
        "id": "Pe9Y0VEs5Ik0"
      },
      "execution_count": 12,
      "outputs": []
    },
    {
      "cell_type": "code",
      "source": [
        "img"
      ],
      "metadata": {
        "colab": {
          "base_uri": "https://localhost:8080/"
        },
        "id": "SfI49ny-5Ic_",
        "outputId": "945610be-1a8b-4f78-a46d-7d584c2bcabe"
      },
      "execution_count": 13,
      "outputs": [
        {
          "output_type": "execute_result",
          "data": {
            "text/plain": [
              "array([[[0.68627451, 0.85882353, 0.99607843],\n",
              "        [0.68627451, 0.85882353, 0.99607843],\n",
              "        [0.68627451, 0.85882353, 0.99607843],\n",
              "        ...,\n",
              "        [0.5372549 , 0.65882353, 0.67843137],\n",
              "        [0.52941176, 0.65098039, 0.67058824],\n",
              "        [0.5254902 , 0.64705882, 0.66666667]],\n",
              "\n",
              "       [[0.69019608, 0.8627451 , 1.        ],\n",
              "        [0.69019608, 0.8627451 , 1.        ],\n",
              "        [0.69019608, 0.8627451 , 1.        ],\n",
              "        ...,\n",
              "        [0.54117647, 0.6627451 , 0.68235294],\n",
              "        [0.53333333, 0.65490196, 0.6745098 ],\n",
              "        [0.5254902 , 0.64705882, 0.66666667]],\n",
              "\n",
              "       [[0.69411765, 0.8627451 , 0.99607843],\n",
              "        [0.69411765, 0.8627451 , 0.99607843],\n",
              "        [0.69411765, 0.8627451 , 0.99607843],\n",
              "        ...,\n",
              "        [0.54117647, 0.6627451 , 0.68235294],\n",
              "        [0.53333333, 0.65490196, 0.6745098 ],\n",
              "        [0.5254902 , 0.64705882, 0.66666667]],\n",
              "\n",
              "       ...,\n",
              "\n",
              "       [[0.38431373, 0.42352941, 0.08235294],\n",
              "        [0.37647059, 0.41568627, 0.07843137],\n",
              "        [0.34901961, 0.38431373, 0.05490196],\n",
              "        ...,\n",
              "        [0.2627451 , 0.27843137, 0.        ],\n",
              "        [0.36470588, 0.39215686, 0.08627451],\n",
              "        [0.40784314, 0.43921569, 0.11764706]],\n",
              "\n",
              "       [[0.38431373, 0.42352941, 0.08235294],\n",
              "        [0.3372549 , 0.37647059, 0.04313725],\n",
              "        [0.30588235, 0.34509804, 0.01568627],\n",
              "        ...,\n",
              "        [0.25098039, 0.27843137, 0.        ],\n",
              "        [0.36470588, 0.39215686, 0.09019608],\n",
              "        [0.41568627, 0.45098039, 0.12941176]],\n",
              "\n",
              "       [[0.38823529, 0.42745098, 0.08627451],\n",
              "        [0.31372549, 0.35294118, 0.03137255],\n",
              "        [0.28627451, 0.32156863, 0.00784314],\n",
              "        ...,\n",
              "        [0.25490196, 0.27843137, 0.        ],\n",
              "        [0.37254902, 0.4       , 0.09803922],\n",
              "        [0.43137255, 0.46666667, 0.14509804]]])"
            ]
          },
          "metadata": {},
          "execution_count": 13
        }
      ]
    },
    {
      "cell_type": "code",
      "source": [
        "img[np.newaxis,...].shape"
      ],
      "metadata": {
        "colab": {
          "base_uri": "https://localhost:8080/"
        },
        "id": "vnbhvEW3xNNL",
        "outputId": "7b98733d-55b2-4538-d0d0-b882a367a78e"
      },
      "execution_count": 14,
      "outputs": [
        {
          "output_type": "execute_result",
          "data": {
            "text/plain": [
              "(1, 224, 224, 3)"
            ]
          },
          "metadata": {},
          "execution_count": 14
        }
      ]
    },
    {
      "cell_type": "code",
      "source": [
        "img=img[np.newaxis,...]"
      ],
      "metadata": {
        "id": "eonxHADmxNQH"
      },
      "execution_count": 15,
      "outputs": []
    },
    {
      "cell_type": "code",
      "source": [
        "prediction=model.predict(img)"
      ],
      "metadata": {
        "id": "CQ14PPRUxNSt"
      },
      "execution_count": 16,
      "outputs": []
    },
    {
      "cell_type": "code",
      "source": [
        "prediction"
      ],
      "metadata": {
        "colab": {
          "base_uri": "https://localhost:8080/"
        },
        "id": "snj_anbYyvHE",
        "outputId": "a4fa783e-b89c-45a8-fb99-035e16a426c5"
      },
      "execution_count": 17,
      "outputs": [
        {
          "output_type": "execute_result",
          "data": {
            "text/plain": [
              "array([[ 0.3238162 ,  0.37826908, -0.39912003, ..., -0.112207  ,\n",
              "        -0.56578076, -0.8044958 ]], dtype=float32)"
            ]
          },
          "metadata": {},
          "execution_count": 17
        }
      ]
    },
    {
      "cell_type": "code",
      "source": [
        "#finding the label having max probability\n",
        "\n",
        "prediction=np.argmax(prediction)"
      ],
      "metadata": {
        "id": "rV9RGM4yxNVZ"
      },
      "execution_count": 18,
      "outputs": []
    },
    {
      "cell_type": "code",
      "source": [
        "prediction"
      ],
      "metadata": {
        "colab": {
          "base_uri": "https://localhost:8080/"
        },
        "id": "zK5VM11FxNXn",
        "outputId": "a203bab6-ed90-4fe9-ccbf-ae20c1909f96"
      },
      "execution_count": 19,
      "outputs": [
        {
          "output_type": "execute_result",
          "data": {
            "text/plain": [
              "52"
            ]
          },
          "metadata": {},
          "execution_count": 19
        }
      ]
    },
    {
      "cell_type": "code",
      "source": [
        "labels"
      ],
      "metadata": {
        "colab": {
          "base_uri": "https://localhost:8080/",
          "height": 424
        },
        "id": "1nAVOno2Rcli",
        "outputId": "b320fc7e-7c07-45e2-b69c-5012112ff4d1"
      },
      "execution_count": 20,
      "outputs": [
        {
          "output_type": "execute_result",
          "data": {
            "text/html": [
              "\n",
              "  <div id=\"df-3542e242-80b2-4d7c-b516-1990304dc7b5\">\n",
              "    <div class=\"colab-df-container\">\n",
              "      <div>\n",
              "<style scoped>\n",
              "    .dataframe tbody tr th:only-of-type {\n",
              "        vertical-align: middle;\n",
              "    }\n",
              "\n",
              "    .dataframe tbody tr th {\n",
              "        vertical-align: top;\n",
              "    }\n",
              "\n",
              "    .dataframe thead th {\n",
              "        text-align: right;\n",
              "    }\n",
              "</style>\n",
              "<table border=\"1\" class=\"dataframe\">\n",
              "  <thead>\n",
              "    <tr style=\"text-align: right;\">\n",
              "      <th></th>\n",
              "      <th>0</th>\n",
              "    </tr>\n",
              "  </thead>\n",
              "  <tbody>\n",
              "    <tr>\n",
              "      <th>0</th>\n",
              "      <td>background</td>\n",
              "    </tr>\n",
              "    <tr>\n",
              "      <th>1</th>\n",
              "      <td>tench</td>\n",
              "    </tr>\n",
              "    <tr>\n",
              "      <th>2</th>\n",
              "      <td>goldfish</td>\n",
              "    </tr>\n",
              "    <tr>\n",
              "      <th>3</th>\n",
              "      <td>great white shark</td>\n",
              "    </tr>\n",
              "    <tr>\n",
              "      <th>4</th>\n",
              "      <td>tiger shark</td>\n",
              "    </tr>\n",
              "    <tr>\n",
              "      <th>...</th>\n",
              "      <td>...</td>\n",
              "    </tr>\n",
              "    <tr>\n",
              "      <th>996</th>\n",
              "      <td>earthstar</td>\n",
              "    </tr>\n",
              "    <tr>\n",
              "      <th>997</th>\n",
              "      <td>hen-of-the-woods</td>\n",
              "    </tr>\n",
              "    <tr>\n",
              "      <th>998</th>\n",
              "      <td>bolete</td>\n",
              "    </tr>\n",
              "    <tr>\n",
              "      <th>999</th>\n",
              "      <td>ear</td>\n",
              "    </tr>\n",
              "    <tr>\n",
              "      <th>1000</th>\n",
              "      <td>toilet tissue</td>\n",
              "    </tr>\n",
              "  </tbody>\n",
              "</table>\n",
              "<p>1001 rows × 1 columns</p>\n",
              "</div>\n",
              "      <button class=\"colab-df-convert\" onclick=\"convertToInteractive('df-3542e242-80b2-4d7c-b516-1990304dc7b5')\"\n",
              "              title=\"Convert this dataframe to an interactive table.\"\n",
              "              style=\"display:none;\">\n",
              "        \n",
              "  <svg xmlns=\"http://www.w3.org/2000/svg\" height=\"24px\"viewBox=\"0 0 24 24\"\n",
              "       width=\"24px\">\n",
              "    <path d=\"M0 0h24v24H0V0z\" fill=\"none\"/>\n",
              "    <path d=\"M18.56 5.44l.94 2.06.94-2.06 2.06-.94-2.06-.94-.94-2.06-.94 2.06-2.06.94zm-11 1L8.5 8.5l.94-2.06 2.06-.94-2.06-.94L8.5 2.5l-.94 2.06-2.06.94zm10 10l.94 2.06.94-2.06 2.06-.94-2.06-.94-.94-2.06-.94 2.06-2.06.94z\"/><path d=\"M17.41 7.96l-1.37-1.37c-.4-.4-.92-.59-1.43-.59-.52 0-1.04.2-1.43.59L10.3 9.45l-7.72 7.72c-.78.78-.78 2.05 0 2.83L4 21.41c.39.39.9.59 1.41.59.51 0 1.02-.2 1.41-.59l7.78-7.78 2.81-2.81c.8-.78.8-2.07 0-2.86zM5.41 20L4 18.59l7.72-7.72 1.47 1.35L5.41 20z\"/>\n",
              "  </svg>\n",
              "      </button>\n",
              "      \n",
              "  <style>\n",
              "    .colab-df-container {\n",
              "      display:flex;\n",
              "      flex-wrap:wrap;\n",
              "      gap: 12px;\n",
              "    }\n",
              "\n",
              "    .colab-df-convert {\n",
              "      background-color: #E8F0FE;\n",
              "      border: none;\n",
              "      border-radius: 50%;\n",
              "      cursor: pointer;\n",
              "      display: none;\n",
              "      fill: #1967D2;\n",
              "      height: 32px;\n",
              "      padding: 0 0 0 0;\n",
              "      width: 32px;\n",
              "    }\n",
              "\n",
              "    .colab-df-convert:hover {\n",
              "      background-color: #E2EBFA;\n",
              "      box-shadow: 0px 1px 2px rgba(60, 64, 67, 0.3), 0px 1px 3px 1px rgba(60, 64, 67, 0.15);\n",
              "      fill: #174EA6;\n",
              "    }\n",
              "\n",
              "    [theme=dark] .colab-df-convert {\n",
              "      background-color: #3B4455;\n",
              "      fill: #D2E3FC;\n",
              "    }\n",
              "\n",
              "    [theme=dark] .colab-df-convert:hover {\n",
              "      background-color: #434B5C;\n",
              "      box-shadow: 0px 1px 3px 1px rgba(0, 0, 0, 0.15);\n",
              "      filter: drop-shadow(0px 1px 2px rgba(0, 0, 0, 0.3));\n",
              "      fill: #FFFFFF;\n",
              "    }\n",
              "  </style>\n",
              "\n",
              "      <script>\n",
              "        const buttonEl =\n",
              "          document.querySelector('#df-3542e242-80b2-4d7c-b516-1990304dc7b5 button.colab-df-convert');\n",
              "        buttonEl.style.display =\n",
              "          google.colab.kernel.accessAllowed ? 'block' : 'none';\n",
              "\n",
              "        async function convertToInteractive(key) {\n",
              "          const element = document.querySelector('#df-3542e242-80b2-4d7c-b516-1990304dc7b5');\n",
              "          const dataTable =\n",
              "            await google.colab.kernel.invokeFunction('convertToInteractive',\n",
              "                                                     [key], {});\n",
              "          if (!dataTable) return;\n",
              "\n",
              "          const docLinkHtml = 'Like what you see? Visit the ' +\n",
              "            '<a target=\"_blank\" href=https://colab.research.google.com/notebooks/data_table.ipynb>data table notebook</a>'\n",
              "            + ' to learn more about interactive tables.';\n",
              "          element.innerHTML = '';\n",
              "          dataTable['output_type'] = 'display_data';\n",
              "          await google.colab.output.renderOutput(dataTable, element);\n",
              "          const docLink = document.createElement('div');\n",
              "          docLink.innerHTML = docLinkHtml;\n",
              "          element.appendChild(docLink);\n",
              "        }\n",
              "      </script>\n",
              "    </div>\n",
              "  </div>\n",
              "  "
            ],
            "text/plain": [
              "                      0\n",
              "0            background\n",
              "1                 tench\n",
              "2              goldfish\n",
              "3     great white shark\n",
              "4           tiger shark\n",
              "...                 ...\n",
              "996           earthstar\n",
              "997    hen-of-the-woods\n",
              "998              bolete\n",
              "999                 ear\n",
              "1000      toilet tissue\n",
              "\n",
              "[1001 rows x 1 columns]"
            ]
          },
          "metadata": {},
          "execution_count": 20
        }
      ]
    },
    {
      "cell_type": "code",
      "source": [
        "labels.iloc[52]"
      ],
      "metadata": {
        "colab": {
          "base_uri": "https://localhost:8080/"
        },
        "id": "AT7Gh0-cxNaS",
        "outputId": "1e3856fa-88a3-46a8-dbad-00932a0a473a"
      },
      "execution_count": 21,
      "outputs": [
        {
          "output_type": "execute_result",
          "data": {
            "text/plain": [
              "0    triceratops\n",
              "Name: 52, dtype: object"
            ]
          },
          "metadata": {},
          "execution_count": 21
        }
      ]
    },
    {
      "cell_type": "markdown",
      "source": [
        "## Validating\n"
      ],
      "metadata": {
        "id": "mXtBB2x_5y7x"
      }
    },
    {
      "cell_type": "code",
      "source": [
        "image=cv2.imread(r'/content/SAMPLE5.jpg')"
      ],
      "metadata": {
        "id": "jdv4FD-4xNdx"
      },
      "execution_count": 22,
      "outputs": []
    },
    {
      "cell_type": "code",
      "source": [
        "image=cv2.resize(image,IMAGE_SHAPE)"
      ],
      "metadata": {
        "id": "TtaSgqVM6gE5"
      },
      "execution_count": 23,
      "outputs": []
    },
    {
      "cell_type": "code",
      "source": [
        "image=np.array(image)"
      ],
      "metadata": {
        "id": "hTa9R6ElxNxo"
      },
      "execution_count": 24,
      "outputs": []
    },
    {
      "cell_type": "code",
      "source": [
        "image.shape"
      ],
      "metadata": {
        "colab": {
          "base_uri": "https://localhost:8080/"
        },
        "id": "5BoZwWYQ6OP8",
        "outputId": "9e23cbef-79c5-41fa-d293-f1f9951adfde"
      },
      "execution_count": 25,
      "outputs": [
        {
          "output_type": "execute_result",
          "data": {
            "text/plain": [
              "(224, 224, 3)"
            ]
          },
          "metadata": {},
          "execution_count": 25
        }
      ]
    },
    {
      "cell_type": "code",
      "source": [
        "image"
      ],
      "metadata": {
        "colab": {
          "base_uri": "https://localhost:8080/"
        },
        "id": "NdKnL1qB7HBg",
        "outputId": "b1960340-bba7-4751-b2c7-f13f23815360"
      },
      "execution_count": 26,
      "outputs": [
        {
          "output_type": "execute_result",
          "data": {
            "text/plain": [
              "array([[[224, 219, 220],\n",
              "        [224, 219, 220],\n",
              "        [225, 220, 221],\n",
              "        ...,\n",
              "        [217, 215, 215],\n",
              "        [215, 215, 215],\n",
              "        [215, 215, 215]],\n",
              "\n",
              "       [[224, 219, 220],\n",
              "        [224, 219, 220],\n",
              "        [225, 220, 221],\n",
              "        ...,\n",
              "        [217, 215, 215],\n",
              "        [217, 215, 215],\n",
              "        [217, 215, 215]],\n",
              "\n",
              "       [[224, 219, 220],\n",
              "        [224, 219, 220],\n",
              "        [225, 220, 221],\n",
              "        ...,\n",
              "        [217, 215, 215],\n",
              "        [219, 214, 215],\n",
              "        [219, 214, 215]],\n",
              "\n",
              "       ...,\n",
              "\n",
              "       [[ 21, 161, 118],\n",
              "        [ 35, 161, 120],\n",
              "        [ 26, 163, 116],\n",
              "        ...,\n",
              "        [ 34, 161, 114],\n",
              "        [ 50, 165, 122],\n",
              "        [ 52, 169, 126]],\n",
              "\n",
              "       [[ 22, 162, 121],\n",
              "        [ 27, 162, 118],\n",
              "        [ 28, 161, 118],\n",
              "        ...,\n",
              "        [ 65, 173, 131],\n",
              "        [ 51, 164, 120],\n",
              "        [ 49, 167, 125]],\n",
              "\n",
              "       [[ 22, 163, 121],\n",
              "        [ 28, 163, 119],\n",
              "        [ 31, 166, 122],\n",
              "        ...,\n",
              "        [ 62, 167, 126],\n",
              "        [ 54, 164, 121],\n",
              "        [ 47, 162, 121]]], dtype=uint8)"
            ]
          },
          "metadata": {},
          "execution_count": 26
        }
      ]
    },
    {
      "cell_type": "code",
      "source": [
        "#scaling the images\n",
        "image=image/255."
      ],
      "metadata": {
        "id": "QsqF0KmX6OYO"
      },
      "execution_count": 27,
      "outputs": []
    },
    {
      "cell_type": "code",
      "source": [
        "image"
      ],
      "metadata": {
        "colab": {
          "base_uri": "https://localhost:8080/"
        },
        "id": "MHvs8Vpf6PDq",
        "outputId": "ed654947-8f3b-4241-eb5d-0ea6811d82df"
      },
      "execution_count": 28,
      "outputs": [
        {
          "output_type": "execute_result",
          "data": {
            "text/plain": [
              "array([[[0.87843137, 0.85882353, 0.8627451 ],\n",
              "        [0.87843137, 0.85882353, 0.8627451 ],\n",
              "        [0.88235294, 0.8627451 , 0.86666667],\n",
              "        ...,\n",
              "        [0.85098039, 0.84313725, 0.84313725],\n",
              "        [0.84313725, 0.84313725, 0.84313725],\n",
              "        [0.84313725, 0.84313725, 0.84313725]],\n",
              "\n",
              "       [[0.87843137, 0.85882353, 0.8627451 ],\n",
              "        [0.87843137, 0.85882353, 0.8627451 ],\n",
              "        [0.88235294, 0.8627451 , 0.86666667],\n",
              "        ...,\n",
              "        [0.85098039, 0.84313725, 0.84313725],\n",
              "        [0.85098039, 0.84313725, 0.84313725],\n",
              "        [0.85098039, 0.84313725, 0.84313725]],\n",
              "\n",
              "       [[0.87843137, 0.85882353, 0.8627451 ],\n",
              "        [0.87843137, 0.85882353, 0.8627451 ],\n",
              "        [0.88235294, 0.8627451 , 0.86666667],\n",
              "        ...,\n",
              "        [0.85098039, 0.84313725, 0.84313725],\n",
              "        [0.85882353, 0.83921569, 0.84313725],\n",
              "        [0.85882353, 0.83921569, 0.84313725]],\n",
              "\n",
              "       ...,\n",
              "\n",
              "       [[0.08235294, 0.63137255, 0.4627451 ],\n",
              "        [0.1372549 , 0.63137255, 0.47058824],\n",
              "        [0.10196078, 0.63921569, 0.45490196],\n",
              "        ...,\n",
              "        [0.13333333, 0.63137255, 0.44705882],\n",
              "        [0.19607843, 0.64705882, 0.47843137],\n",
              "        [0.20392157, 0.6627451 , 0.49411765]],\n",
              "\n",
              "       [[0.08627451, 0.63529412, 0.4745098 ],\n",
              "        [0.10588235, 0.63529412, 0.4627451 ],\n",
              "        [0.10980392, 0.63137255, 0.4627451 ],\n",
              "        ...,\n",
              "        [0.25490196, 0.67843137, 0.51372549],\n",
              "        [0.2       , 0.64313725, 0.47058824],\n",
              "        [0.19215686, 0.65490196, 0.49019608]],\n",
              "\n",
              "       [[0.08627451, 0.63921569, 0.4745098 ],\n",
              "        [0.10980392, 0.63921569, 0.46666667],\n",
              "        [0.12156863, 0.65098039, 0.47843137],\n",
              "        ...,\n",
              "        [0.24313725, 0.65490196, 0.49411765],\n",
              "        [0.21176471, 0.64313725, 0.4745098 ],\n",
              "        [0.18431373, 0.63529412, 0.4745098 ]]])"
            ]
          },
          "metadata": {},
          "execution_count": 28
        }
      ]
    },
    {
      "cell_type": "code",
      "source": [
        "image=image[np.newaxis,...]"
      ],
      "metadata": {
        "id": "o7dJxtN97P6F"
      },
      "execution_count": 29,
      "outputs": []
    },
    {
      "cell_type": "code",
      "source": [
        "image.shape"
      ],
      "metadata": {
        "colab": {
          "base_uri": "https://localhost:8080/"
        },
        "id": "xnIl03IS7bkV",
        "outputId": "1c0910fe-9055-47aa-98b8-fc79c45c5c82"
      },
      "execution_count": 30,
      "outputs": [
        {
          "output_type": "execute_result",
          "data": {
            "text/plain": [
              "(1, 224, 224, 3)"
            ]
          },
          "metadata": {},
          "execution_count": 30
        }
      ]
    },
    {
      "cell_type": "code",
      "source": [
        "image"
      ],
      "metadata": {
        "colab": {
          "base_uri": "https://localhost:8080/"
        },
        "id": "nHl02zOR7dS_",
        "outputId": "d229af9f-b017-4830-93b7-84447644e2a1"
      },
      "execution_count": 31,
      "outputs": [
        {
          "output_type": "execute_result",
          "data": {
            "text/plain": [
              "array([[[[0.87843137, 0.85882353, 0.8627451 ],\n",
              "         [0.87843137, 0.85882353, 0.8627451 ],\n",
              "         [0.88235294, 0.8627451 , 0.86666667],\n",
              "         ...,\n",
              "         [0.85098039, 0.84313725, 0.84313725],\n",
              "         [0.84313725, 0.84313725, 0.84313725],\n",
              "         [0.84313725, 0.84313725, 0.84313725]],\n",
              "\n",
              "        [[0.87843137, 0.85882353, 0.8627451 ],\n",
              "         [0.87843137, 0.85882353, 0.8627451 ],\n",
              "         [0.88235294, 0.8627451 , 0.86666667],\n",
              "         ...,\n",
              "         [0.85098039, 0.84313725, 0.84313725],\n",
              "         [0.85098039, 0.84313725, 0.84313725],\n",
              "         [0.85098039, 0.84313725, 0.84313725]],\n",
              "\n",
              "        [[0.87843137, 0.85882353, 0.8627451 ],\n",
              "         [0.87843137, 0.85882353, 0.8627451 ],\n",
              "         [0.88235294, 0.8627451 , 0.86666667],\n",
              "         ...,\n",
              "         [0.85098039, 0.84313725, 0.84313725],\n",
              "         [0.85882353, 0.83921569, 0.84313725],\n",
              "         [0.85882353, 0.83921569, 0.84313725]],\n",
              "\n",
              "        ...,\n",
              "\n",
              "        [[0.08235294, 0.63137255, 0.4627451 ],\n",
              "         [0.1372549 , 0.63137255, 0.47058824],\n",
              "         [0.10196078, 0.63921569, 0.45490196],\n",
              "         ...,\n",
              "         [0.13333333, 0.63137255, 0.44705882],\n",
              "         [0.19607843, 0.64705882, 0.47843137],\n",
              "         [0.20392157, 0.6627451 , 0.49411765]],\n",
              "\n",
              "        [[0.08627451, 0.63529412, 0.4745098 ],\n",
              "         [0.10588235, 0.63529412, 0.4627451 ],\n",
              "         [0.10980392, 0.63137255, 0.4627451 ],\n",
              "         ...,\n",
              "         [0.25490196, 0.67843137, 0.51372549],\n",
              "         [0.2       , 0.64313725, 0.47058824],\n",
              "         [0.19215686, 0.65490196, 0.49019608]],\n",
              "\n",
              "        [[0.08627451, 0.63921569, 0.4745098 ],\n",
              "         [0.10980392, 0.63921569, 0.46666667],\n",
              "         [0.12156863, 0.65098039, 0.47843137],\n",
              "         ...,\n",
              "         [0.24313725, 0.65490196, 0.49411765],\n",
              "         [0.21176471, 0.64313725, 0.4745098 ],\n",
              "         [0.18431373, 0.63529412, 0.4745098 ]]]])"
            ]
          },
          "metadata": {},
          "execution_count": 31
        }
      ]
    },
    {
      "cell_type": "code",
      "source": [
        "result=model.predict(image)"
      ],
      "metadata": {
        "id": "LXijIBdX6Pkf"
      },
      "execution_count": 32,
      "outputs": []
    },
    {
      "cell_type": "code",
      "source": [
        "result=np.argmax(result)"
      ],
      "metadata": {
        "id": "LA3B9tgq6PwE"
      },
      "execution_count": 33,
      "outputs": []
    },
    {
      "cell_type": "code",
      "source": [
        "result"
      ],
      "metadata": {
        "colab": {
          "base_uri": "https://localhost:8080/"
        },
        "id": "daUo2SvK6QMp",
        "outputId": "df0b53d1-39c3-4380-d8bb-4c804f417b82"
      },
      "execution_count": 34,
      "outputs": [
        {
          "output_type": "execute_result",
          "data": {
            "text/plain": [
              "71"
            ]
          },
          "metadata": {},
          "execution_count": 34
        }
      ]
    },
    {
      "cell_type": "code",
      "source": [
        "labels"
      ],
      "metadata": {
        "colab": {
          "base_uri": "https://localhost:8080/",
          "height": 424
        },
        "id": "p3-6YhnESuC2",
        "outputId": "bdbc4a6d-712d-4974-d536-f7c331a204ee"
      },
      "execution_count": 35,
      "outputs": [
        {
          "output_type": "execute_result",
          "data": {
            "text/html": [
              "\n",
              "  <div id=\"df-49075ddc-0b0e-4ad1-b104-c70cccba7bd2\">\n",
              "    <div class=\"colab-df-container\">\n",
              "      <div>\n",
              "<style scoped>\n",
              "    .dataframe tbody tr th:only-of-type {\n",
              "        vertical-align: middle;\n",
              "    }\n",
              "\n",
              "    .dataframe tbody tr th {\n",
              "        vertical-align: top;\n",
              "    }\n",
              "\n",
              "    .dataframe thead th {\n",
              "        text-align: right;\n",
              "    }\n",
              "</style>\n",
              "<table border=\"1\" class=\"dataframe\">\n",
              "  <thead>\n",
              "    <tr style=\"text-align: right;\">\n",
              "      <th></th>\n",
              "      <th>0</th>\n",
              "    </tr>\n",
              "  </thead>\n",
              "  <tbody>\n",
              "    <tr>\n",
              "      <th>0</th>\n",
              "      <td>background</td>\n",
              "    </tr>\n",
              "    <tr>\n",
              "      <th>1</th>\n",
              "      <td>tench</td>\n",
              "    </tr>\n",
              "    <tr>\n",
              "      <th>2</th>\n",
              "      <td>goldfish</td>\n",
              "    </tr>\n",
              "    <tr>\n",
              "      <th>3</th>\n",
              "      <td>great white shark</td>\n",
              "    </tr>\n",
              "    <tr>\n",
              "      <th>4</th>\n",
              "      <td>tiger shark</td>\n",
              "    </tr>\n",
              "    <tr>\n",
              "      <th>...</th>\n",
              "      <td>...</td>\n",
              "    </tr>\n",
              "    <tr>\n",
              "      <th>996</th>\n",
              "      <td>earthstar</td>\n",
              "    </tr>\n",
              "    <tr>\n",
              "      <th>997</th>\n",
              "      <td>hen-of-the-woods</td>\n",
              "    </tr>\n",
              "    <tr>\n",
              "      <th>998</th>\n",
              "      <td>bolete</td>\n",
              "    </tr>\n",
              "    <tr>\n",
              "      <th>999</th>\n",
              "      <td>ear</td>\n",
              "    </tr>\n",
              "    <tr>\n",
              "      <th>1000</th>\n",
              "      <td>toilet tissue</td>\n",
              "    </tr>\n",
              "  </tbody>\n",
              "</table>\n",
              "<p>1001 rows × 1 columns</p>\n",
              "</div>\n",
              "      <button class=\"colab-df-convert\" onclick=\"convertToInteractive('df-49075ddc-0b0e-4ad1-b104-c70cccba7bd2')\"\n",
              "              title=\"Convert this dataframe to an interactive table.\"\n",
              "              style=\"display:none;\">\n",
              "        \n",
              "  <svg xmlns=\"http://www.w3.org/2000/svg\" height=\"24px\"viewBox=\"0 0 24 24\"\n",
              "       width=\"24px\">\n",
              "    <path d=\"M0 0h24v24H0V0z\" fill=\"none\"/>\n",
              "    <path d=\"M18.56 5.44l.94 2.06.94-2.06 2.06-.94-2.06-.94-.94-2.06-.94 2.06-2.06.94zm-11 1L8.5 8.5l.94-2.06 2.06-.94-2.06-.94L8.5 2.5l-.94 2.06-2.06.94zm10 10l.94 2.06.94-2.06 2.06-.94-2.06-.94-.94-2.06-.94 2.06-2.06.94z\"/><path d=\"M17.41 7.96l-1.37-1.37c-.4-.4-.92-.59-1.43-.59-.52 0-1.04.2-1.43.59L10.3 9.45l-7.72 7.72c-.78.78-.78 2.05 0 2.83L4 21.41c.39.39.9.59 1.41.59.51 0 1.02-.2 1.41-.59l7.78-7.78 2.81-2.81c.8-.78.8-2.07 0-2.86zM5.41 20L4 18.59l7.72-7.72 1.47 1.35L5.41 20z\"/>\n",
              "  </svg>\n",
              "      </button>\n",
              "      \n",
              "  <style>\n",
              "    .colab-df-container {\n",
              "      display:flex;\n",
              "      flex-wrap:wrap;\n",
              "      gap: 12px;\n",
              "    }\n",
              "\n",
              "    .colab-df-convert {\n",
              "      background-color: #E8F0FE;\n",
              "      border: none;\n",
              "      border-radius: 50%;\n",
              "      cursor: pointer;\n",
              "      display: none;\n",
              "      fill: #1967D2;\n",
              "      height: 32px;\n",
              "      padding: 0 0 0 0;\n",
              "      width: 32px;\n",
              "    }\n",
              "\n",
              "    .colab-df-convert:hover {\n",
              "      background-color: #E2EBFA;\n",
              "      box-shadow: 0px 1px 2px rgba(60, 64, 67, 0.3), 0px 1px 3px 1px rgba(60, 64, 67, 0.15);\n",
              "      fill: #174EA6;\n",
              "    }\n",
              "\n",
              "    [theme=dark] .colab-df-convert {\n",
              "      background-color: #3B4455;\n",
              "      fill: #D2E3FC;\n",
              "    }\n",
              "\n",
              "    [theme=dark] .colab-df-convert:hover {\n",
              "      background-color: #434B5C;\n",
              "      box-shadow: 0px 1px 3px 1px rgba(0, 0, 0, 0.15);\n",
              "      filter: drop-shadow(0px 1px 2px rgba(0, 0, 0, 0.3));\n",
              "      fill: #FFFFFF;\n",
              "    }\n",
              "  </style>\n",
              "\n",
              "      <script>\n",
              "        const buttonEl =\n",
              "          document.querySelector('#df-49075ddc-0b0e-4ad1-b104-c70cccba7bd2 button.colab-df-convert');\n",
              "        buttonEl.style.display =\n",
              "          google.colab.kernel.accessAllowed ? 'block' : 'none';\n",
              "\n",
              "        async function convertToInteractive(key) {\n",
              "          const element = document.querySelector('#df-49075ddc-0b0e-4ad1-b104-c70cccba7bd2');\n",
              "          const dataTable =\n",
              "            await google.colab.kernel.invokeFunction('convertToInteractive',\n",
              "                                                     [key], {});\n",
              "          if (!dataTable) return;\n",
              "\n",
              "          const docLinkHtml = 'Like what you see? Visit the ' +\n",
              "            '<a target=\"_blank\" href=https://colab.research.google.com/notebooks/data_table.ipynb>data table notebook</a>'\n",
              "            + ' to learn more about interactive tables.';\n",
              "          element.innerHTML = '';\n",
              "          dataTable['output_type'] = 'display_data';\n",
              "          await google.colab.output.renderOutput(dataTable, element);\n",
              "          const docLink = document.createElement('div');\n",
              "          docLink.innerHTML = docLinkHtml;\n",
              "          element.appendChild(docLink);\n",
              "        }\n",
              "      </script>\n",
              "    </div>\n",
              "  </div>\n",
              "  "
            ],
            "text/plain": [
              "                      0\n",
              "0            background\n",
              "1                 tench\n",
              "2              goldfish\n",
              "3     great white shark\n",
              "4           tiger shark\n",
              "...                 ...\n",
              "996           earthstar\n",
              "997    hen-of-the-woods\n",
              "998              bolete\n",
              "999                 ear\n",
              "1000      toilet tissue\n",
              "\n",
              "[1001 rows x 1 columns]"
            ]
          },
          "metadata": {},
          "execution_count": 35
        }
      ]
    },
    {
      "cell_type": "code",
      "source": [
        "labels.iloc[71]"
      ],
      "metadata": {
        "colab": {
          "base_uri": "https://localhost:8080/"
        },
        "id": "dRgEwFKr6QXv",
        "outputId": "7f89d05f-8a20-4eec-ace0-975dc6d7890b"
      },
      "execution_count": 36,
      "outputs": [
        {
          "output_type": "execute_result",
          "data": {
            "text/plain": [
              "0    harvestman\n",
              "Name: 71, dtype: object"
            ]
          },
          "metadata": {},
          "execution_count": 36
        }
      ]
    },
    {
      "cell_type": "code",
      "source": [
        "model.summary()"
      ],
      "metadata": {
        "colab": {
          "base_uri": "https://localhost:8080/"
        },
        "id": "879iH1F8dhcz",
        "outputId": "7c95147b-9356-418b-8df9-9fd63d7f5fad"
      },
      "execution_count": 37,
      "outputs": [
        {
          "output_type": "stream",
          "name": "stdout",
          "text": [
            "Model: \"sequential\"\n",
            "_________________________________________________________________\n",
            " Layer (type)                Output Shape              Param #   \n",
            "=================================================================\n",
            " keras_layer (KerasLayer)    (None, 1001)              3540265   \n",
            "                                                                 \n",
            "=================================================================\n",
            "Total params: 3,540,265\n",
            "Trainable params: 0\n",
            "Non-trainable params: 3,540,265\n",
            "_________________________________________________________________\n"
          ]
        }
      ]
    }
  ]
}